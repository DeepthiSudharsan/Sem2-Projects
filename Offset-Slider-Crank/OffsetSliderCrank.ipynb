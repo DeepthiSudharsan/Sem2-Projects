{
 "cells": [
  {
   "cell_type": "code",
   "execution_count": 1,
   "metadata": {},
   "outputs": [
    {
     "name": "stdout",
     "output_type": "stream",
     "text": [
      "Enter r2: 5\n",
      "Enter r3: 8\n",
      "Enter r4: 0\n",
      "Enter theta1: 0\n",
      "Choose an option:\n",
      "1) Enter theta2\n",
      "2) Enter theta3\n",
      "3) Enter r1\n",
      " 2\n"
     ]
    }
   ],
   "source": [
    "import math as m\n",
    "import numpy as np \n",
    "import matplotlib.pyplot as plt\n",
    "r2=float(input(\"Enter r2: \"))\n",
    "r3=float(input(\"Enter r3: \"))\n",
    "r4=float(input(\"Enter r4: \"))\n",
    "t1=float(input(\"Enter theta1: \"))\n",
    "case=int(input(\"Choose an option:\\n1) Enter theta2\\n2) Enter theta3\\n3) Enter r1\\n \"))\n"
   ]
  },
  {
   "cell_type": "code",
   "execution_count": 2,
   "metadata": {
    "scrolled": true
   },
   "outputs": [],
   "source": [
    "def position():\n",
    "    global t2; global t3; global t4;  global r1;\n",
    "    t4=t1+(m.pi)/2;\n",
    "    if (case==1):\n",
    "            th2=float(input(\"Enter t2 (in degrees): \"))\n",
    "            t2=m.radians(th2)\n",
    "            A=2*(r4*m.cos(t1)*m.cos(t4)-r2*m.cos(t1)*m.cos(t2)+r4*m.sin(t1)*m.sin(t4)-r2*m.sin(t1)*m.sin(t2))\n",
    "            B=(r4**2)+(r2**2)-(r3**2)-2*r2*r4*m.cos(t2)*m.cos(t4)-2*r2*r4*m.sin(t2)*m.sin(t4)\n",
    "            r1p=(-A+m.sqrt(A**2-4*B))/2\n",
    "            r1n=(-A-m.sqrt(A**2-4*B))/2\n",
    "            if(r1p<0):\n",
    "                r1=r1n\n",
    "            else:\n",
    "                r1=r1p\n",
    "            t3=m.atan((r1*m.sin(t1)+r4*m.sin(t4)-r2*m.sin(t2))/(r1*m.cos(t1)+r4*m.cos(t4)-r2*m.cos(t2)))\n",
    "            print('Angle of coupler in degrees(theta 3):', m.degrees(t3))\n",
    "            print('r1: ', r1)\n",
    "    elif (case==2):\n",
    "            th3=float(input(\"Enter t3 (in degrees): \"))\n",
    "            t3=m.radians(th3)\n",
    "            A=2*(r4*m.cos(t1)*m.cos(t4)-r3*m.cos(t1)*m.cos(t3)+r4*m.sin(t1)*m.sin(t4)-r3*m.sin(t1)*m.sin(t3))\n",
    "            B=(r4**2)+(r3**2)-(r2**2)-2*r3*r4*m.cos(t3)*m.cos(t4)-2*r3*r4*m.sin(t3)*m.sin(t4)\n",
    "            r1p=(-A+m.sqrt(A**2-4*B))/2\n",
    "            r1n=(-A-m.sqrt(A**2-4*B))/2\n",
    "            if(r1p<0):\n",
    "                r1=r1n\n",
    "            else:\n",
    "                r1=r1p\n",
    "            t2=m.atan((r1*m.sin(t1)+r4*m.sin(t4)-r3*m.sin(t3))/(r1*m.cos(t1)+r4*m.cos(t4)-r3*m.cos(t3)))\n",
    "            print('Angle of crank in degrees(theta 2):', m.degrees(t2))\n",
    "            print('r1: ', r1)\n",
    "    elif (case==3):\n",
    "            r1=float(input(\"Enter r1: \"))\n",
    "            A=-2*r1*r3*m.cos(t1)-2*r3*r4*m.cos(t4)\n",
    "            B=-2*r1*r2*m.sin(t1)-2*r3*r4*m.sin(t4)\n",
    "            C=r1**2+r4**2+r3**2-r2**2+2*r1*r4*(m.cos(t1)*m.cos(t4)+m.sin(t1)*m.sin(t4))\n",
    "            t3p=2*m.atan((-B+m.sqrt(A**2+B**2-C**2))/(C-A))\n",
    "            t3n=2*m.atan((-B-m.sqrt(A**2+B**2-C**2))/(C-A))\n",
    "            t2a=m.atan((r1*m.sin(t1)+r4*m.sin(t4)-r3*m.sin(t3p))/(r1*m.cos(t1)+r4*m.cos(t4)-r3*m.cos(t3p)))\n",
    "            t2b=m.atan((r1*m.sin(t1)+r4*m.sin(t4)-r3*m.sin(t3n))/(r1*m.cos(t1)+r4*m.cos(t4)-r3*m.cos(t3n)))\n",
    "            t2temp=[m.degrees(t2a), m.degrees(t2b)]\n",
    "            t3temp=[m.degrees(t3p), m.degrees(t3n)]\n",
    "            t2 = m.radians(t2temp[1]); t3 = m.radians(t3temp[1]);\n",
    "            print('Possible angle of crank values in degrees(theta 2): ',t2temp)\n",
    "            print('Possible angle of coupler values in degrees(theta 3): ', t3temp)"
   ]
  },
  {
   "cell_type": "code",
   "execution_count": 3,
   "metadata": {},
   "outputs": [],
   "source": [
    "def velocity():\n",
    "    global dt2; global dt3; global dr1; \n",
    "    if(case == 1):\n",
    "        dt2=float(input(\"Enter t2 dot (in rad/s): \"))\n",
    "        A = np.array([[m.cos(t1), r3*(m.sin(t3))],[m.sin(t1), -r3*(m.cos(t3))]]);\n",
    "        B = np.array([[-r2*dt2*(m.sin(t2))],[r2*dt2*(m.cos(t2))]]);\n",
    "        C = (np.linalg.inv(A)).dot(B)\n",
    "        dr1 = float(C[0]);\n",
    "        dt3 = float(C[1]);\n",
    "        print(\"Velocity of r1 is: \", dr1); print(\"Angular velocity of coupler is: \", dt3);\n",
    "    elif(case == 2):\n",
    "        dt3=float(input(\"Enter t3 dot (in rad/s): \"))\n",
    "        A = np.array([[m.cos(t1), r2*(m.sin(t2))],[m.sin(t1), -r2*(m.cos(t2))]]);\n",
    "        B = np.array([[-r3*dt3*(m.sin(t3))],[r3*dt3*(m.cos(t3))]]);\n",
    "        C = (np.linalg.inv(A)).dot(B)\n",
    "        dr1 = float(C[0]);\n",
    "        dt2 = float(C[1]);\n",
    "        print(\"Velocity of r1 is: \", dr1); print(\"Angular velocity of crank is: \", dt2);\n",
    "    elif(case == 3):\n",
    "        dr1=float(input(\"Enter r1 dot (in m/s): \"))\n",
    "        A = np.array([[-r2*(m.sin(t2)), -r3*(m.sin(t3))],[r2*(m.cos(t2)), r3*(m.cos(t3))]]);\n",
    "        B = np.array([[dr1*(m.cos(t1))],[dr1*(m.sin(t1))]]);\n",
    "        C = (np.linalg.inv(A)).dot(B)\n",
    "        dt2 = float(C[0]);\n",
    "        dt3 = float(C[1]);\n",
    "        print(\"Angular velocity of crank is:  \", dt2); print(\"Angular velocity of coupler is: \", dt3);\n",
    "        \n"
   ]
  },
  {
   "cell_type": "code",
   "execution_count": 4,
   "metadata": {},
   "outputs": [
    {
     "name": "stdout",
     "output_type": "stream",
     "text": [
      "Enter t3 (in degrees): -26.2278\n",
      "Angle of crank in degrees(theta 2): 44.99992398872429\n",
      "r1:  10.71189095433543\n"
     ]
    }
   ],
   "source": [
    "pos = position() \n",
    "pos"
   ]
  },
  {
   "cell_type": "code",
   "execution_count": 5,
   "metadata": {},
   "outputs": [
    {
     "name": "stdout",
     "output_type": "stream",
     "text": [
      "Enter t3 dot (in rad/s): -4.928\n",
      "Velocity of r1 is:  -52.788058560536996\n",
      "Angular velocity of crank is:  10.002737477362981\n"
     ]
    }
   ],
   "source": [
    "vel = velocity()\n",
    "vel"
   ]
  },
  {
   "cell_type": "code",
   "execution_count": 6,
   "metadata": {},
   "outputs": [],
   "source": [
    "def acceleration():\n",
    "    global ddt2; global ddt3; global ddr1;\n",
    "    if(case==1):\n",
    "        ddt2=float(input(\"Enter acceleration of link 2 (in rad/s^2): \"))\n",
    "        A=np.array([[m.cos(t1), r3*(m.sin(t3))],[m.sin(t1), -r3*(m.cos(t3))]]);\n",
    "        B=np.array([[-r2*ddt2*m.sin(t2)-r2*(dt2**2)*m.cos(t2)-r3*(dt3**2)*m.cos(t3)],[r2*ddt2*m.cos(t2)-r2*(dt2**2)*m.sin(t2)-r3*(dt3**2)*m.sin(t3)]]);\n",
    "        C=(np.linalg.inv(A)).dot(B)\n",
    "        ddr1 = float(C[0]);\n",
    "        ddt3 = float(C[1]);\n",
    "        print(\"Acceleration of r1 is: \",ddr1);\n",
    "        print(\"Angular acceleration of coupler is: \",ddt3);\n",
    "    elif(case==2):\n",
    "        ddt3=float(input(\"Enter acceleration of link 3 (in rad/s^2): \"))\n",
    "        A=np.array([[m.cos(t1), r2*(m.sin(t2))],[m.sin(t1), -r2*(m.cos(t2))]]);\n",
    "        B=np.array([[-r3*ddt3*m.sin(t3)-r3*(dt3**2)*m.cos(t3)-r2*(dt2**2)*m.cos(t2)],[r3*ddt3*m.cos(t3)-r3*(dt3**2)*m.sin(t3)-r2*(dt2**2)*m.sin(t2)]]);\n",
    "        C=(np.linalg.inv(A)).dot(B)\n",
    "        ddr1 = float(C[0]);\n",
    "        ddt2 = float(C[1]);\n",
    "        print(\"Acceleration of r1 is: \",ddr1);\n",
    "        print(\"Angular acceleration of crank is: \",ddt2);\n",
    "    elif(case==3):\n",
    "        ddr1=float(input(\"Enter r2 dot dot (in m/s^2): \"))\n",
    "        A=np.array([[-r2*m.sin(t2), -r3*(m.sin(t3))],[r2*m.cos(t2), r3*(m.cos(t3))]]);\n",
    "        B=np.array([[-ddr1*m.cos(t1)+r2*(dt2**2)*m.cos(t2)+r3*(dt3**2)*m.cos(t3)],[ddr1*m.sin(t1)+r2*(dt2**2)*m.sin(t2)+r3*(dt3**2)*m.sin(t3)]]);\n",
    "        C=(np.linalg.inv(A)).dot(B)\n",
    "        ddt2 = float(C[0]);\n",
    "        ddt3 = float(C[1]);\n",
    "        print(\"Angular acceleration of crank is: \",ddt2);\n",
    "        print(\"Angular acceleration of coupler is: \",ddt3);\n",
    "        "
   ]
  },
  {
   "cell_type": "code",
   "execution_count": 7,
   "metadata": {},
   "outputs": [
    {
     "name": "stdout",
     "output_type": "stream",
     "text": [
      "Enter acceleration of link 3 (in rad/s^2): 0\n",
      "Acceleration of r1 is:  -795.9113210846349\n",
      "Angular acceleration of crank is:  75.76937200235058\n"
     ]
    }
   ],
   "source": [
    "acc = acceleration()\n",
    "acc"
   ]
  },
  {
   "cell_type": "code",
   "execution_count": 15,
   "metadata": {},
   "outputs": [
    {
     "ename": "TypeError",
     "evalue": "ufunc 'sqrt' not supported for the input types, and the inputs could not be safely coerced to any supported types according to the casting rule ''safe''",
     "output_type": "error",
     "traceback": [
      "\u001b[1;31m---------------------------------------------------------------------------\u001b[0m",
      "\u001b[1;31mTypeError\u001b[0m                                 Traceback (most recent call last)",
      "\u001b[1;32m<ipython-input-15-7f26bfad6033>\u001b[0m in \u001b[0;36m<module>\u001b[1;34m\u001b[0m\n\u001b[0;32m     17\u001b[0m     \u001b[0mplt\u001b[0m\u001b[1;33m.\u001b[0m\u001b[0mylabel\u001b[0m\u001b[1;33m(\u001b[0m\u001b[1;34m' position, velocity and acceleration '\u001b[0m\u001b[1;33m)\u001b[0m\u001b[1;33m\u001b[0m\u001b[1;33m\u001b[0m\u001b[0m\n\u001b[0;32m     18\u001b[0m \u001b[1;33m\u001b[0m\u001b[0m\n\u001b[1;32m---> 19\u001b[1;33m     \u001b[0mp\u001b[0m \u001b[1;33m=\u001b[0m \u001b[0mplt\u001b[0m\u001b[1;33m.\u001b[0m\u001b[0mscatter\u001b[0m\u001b[1;33m(\u001b[0m\u001b[0mt3\u001b[0m\u001b[1;33m,\u001b[0m\u001b[0mpos\u001b[0m\u001b[1;33m,\u001b[0m\u001b[1;34m'r'\u001b[0m\u001b[1;33m)\u001b[0m\u001b[1;33m\u001b[0m\u001b[1;33m\u001b[0m\u001b[0m\n\u001b[0m\u001b[0;32m     20\u001b[0m     \u001b[0mv\u001b[0m \u001b[1;33m=\u001b[0m \u001b[0mplt\u001b[0m\u001b[1;33m.\u001b[0m\u001b[0mscatter\u001b[0m\u001b[1;33m(\u001b[0m\u001b[0mdt3\u001b[0m\u001b[1;33m,\u001b[0m\u001b[0mvel\u001b[0m\u001b[1;33m,\u001b[0m\u001b[1;34m'g'\u001b[0m\u001b[1;33m)\u001b[0m\u001b[1;33m\u001b[0m\u001b[1;33m\u001b[0m\u001b[0m\n\u001b[0;32m     21\u001b[0m     \u001b[0mac\u001b[0m \u001b[1;33m=\u001b[0m \u001b[0mplt\u001b[0m\u001b[1;33m.\u001b[0m\u001b[0mscatter\u001b[0m\u001b[1;33m(\u001b[0m\u001b[0mddt3\u001b[0m\u001b[1;33m,\u001b[0m\u001b[0macc\u001b[0m\u001b[1;33m,\u001b[0m\u001b[1;34m'b'\u001b[0m\u001b[1;33m)\u001b[0m\u001b[1;33m\u001b[0m\u001b[1;33m\u001b[0m\u001b[0m\n",
      "\u001b[1;32m~\\Anaconda3\\lib\\site-packages\\matplotlib\\pyplot.py\u001b[0m in \u001b[0;36mscatter\u001b[1;34m(x, y, s, c, marker, cmap, norm, vmin, vmax, alpha, linewidths, verts, edgecolors, plotnonfinite, data, **kwargs)\u001b[0m\n\u001b[0;32m   2845\u001b[0m         \u001b[0mverts\u001b[0m\u001b[1;33m=\u001b[0m\u001b[0mverts\u001b[0m\u001b[1;33m,\u001b[0m \u001b[0medgecolors\u001b[0m\u001b[1;33m=\u001b[0m\u001b[0medgecolors\u001b[0m\u001b[1;33m,\u001b[0m\u001b[1;33m\u001b[0m\u001b[1;33m\u001b[0m\u001b[0m\n\u001b[0;32m   2846\u001b[0m         plotnonfinite=plotnonfinite, **({\"data\": data} if data is not\n\u001b[1;32m-> 2847\u001b[1;33m         None else {}), **kwargs)\n\u001b[0m\u001b[0;32m   2848\u001b[0m     \u001b[0msci\u001b[0m\u001b[1;33m(\u001b[0m\u001b[0m__ret\u001b[0m\u001b[1;33m)\u001b[0m\u001b[1;33m\u001b[0m\u001b[1;33m\u001b[0m\u001b[0m\n\u001b[0;32m   2849\u001b[0m     \u001b[1;32mreturn\u001b[0m \u001b[0m__ret\u001b[0m\u001b[1;33m\u001b[0m\u001b[1;33m\u001b[0m\u001b[0m\n",
      "\u001b[1;32m~\\Anaconda3\\lib\\site-packages\\matplotlib\\__init__.py\u001b[0m in \u001b[0;36minner\u001b[1;34m(ax, data, *args, **kwargs)\u001b[0m\n\u001b[0;32m   1599\u001b[0m     \u001b[1;32mdef\u001b[0m \u001b[0minner\u001b[0m\u001b[1;33m(\u001b[0m\u001b[0max\u001b[0m\u001b[1;33m,\u001b[0m \u001b[1;33m*\u001b[0m\u001b[0margs\u001b[0m\u001b[1;33m,\u001b[0m \u001b[0mdata\u001b[0m\u001b[1;33m=\u001b[0m\u001b[1;32mNone\u001b[0m\u001b[1;33m,\u001b[0m \u001b[1;33m**\u001b[0m\u001b[0mkwargs\u001b[0m\u001b[1;33m)\u001b[0m\u001b[1;33m:\u001b[0m\u001b[1;33m\u001b[0m\u001b[1;33m\u001b[0m\u001b[0m\n\u001b[0;32m   1600\u001b[0m         \u001b[1;32mif\u001b[0m \u001b[0mdata\u001b[0m \u001b[1;32mis\u001b[0m \u001b[1;32mNone\u001b[0m\u001b[1;33m:\u001b[0m\u001b[1;33m\u001b[0m\u001b[1;33m\u001b[0m\u001b[0m\n\u001b[1;32m-> 1601\u001b[1;33m             \u001b[1;32mreturn\u001b[0m \u001b[0mfunc\u001b[0m\u001b[1;33m(\u001b[0m\u001b[0max\u001b[0m\u001b[1;33m,\u001b[0m \u001b[1;33m*\u001b[0m\u001b[0mmap\u001b[0m\u001b[1;33m(\u001b[0m\u001b[0msanitize_sequence\u001b[0m\u001b[1;33m,\u001b[0m \u001b[0margs\u001b[0m\u001b[1;33m)\u001b[0m\u001b[1;33m,\u001b[0m \u001b[1;33m**\u001b[0m\u001b[0mkwargs\u001b[0m\u001b[1;33m)\u001b[0m\u001b[1;33m\u001b[0m\u001b[1;33m\u001b[0m\u001b[0m\n\u001b[0m\u001b[0;32m   1602\u001b[0m \u001b[1;33m\u001b[0m\u001b[0m\n\u001b[0;32m   1603\u001b[0m         \u001b[0mbound\u001b[0m \u001b[1;33m=\u001b[0m \u001b[0mnew_sig\u001b[0m\u001b[1;33m.\u001b[0m\u001b[0mbind\u001b[0m\u001b[1;33m(\u001b[0m\u001b[0max\u001b[0m\u001b[1;33m,\u001b[0m \u001b[1;33m*\u001b[0m\u001b[0margs\u001b[0m\u001b[1;33m,\u001b[0m \u001b[1;33m**\u001b[0m\u001b[0mkwargs\u001b[0m\u001b[1;33m)\u001b[0m\u001b[1;33m\u001b[0m\u001b[1;33m\u001b[0m\u001b[0m\n",
      "\u001b[1;32m~\\Anaconda3\\lib\\site-packages\\matplotlib\\axes\\_axes.py\u001b[0m in \u001b[0;36mscatter\u001b[1;34m(self, x, y, s, c, marker, cmap, norm, vmin, vmax, alpha, linewidths, verts, edgecolors, plotnonfinite, **kwargs)\u001b[0m\n\u001b[0;32m   4496\u001b[0m                 \u001b[0moffsets\u001b[0m\u001b[1;33m=\u001b[0m\u001b[0moffsets\u001b[0m\u001b[1;33m,\u001b[0m\u001b[1;33m\u001b[0m\u001b[1;33m\u001b[0m\u001b[0m\n\u001b[0;32m   4497\u001b[0m                 \u001b[0mtransOffset\u001b[0m\u001b[1;33m=\u001b[0m\u001b[0mkwargs\u001b[0m\u001b[1;33m.\u001b[0m\u001b[0mpop\u001b[0m\u001b[1;33m(\u001b[0m\u001b[1;34m'transform'\u001b[0m\u001b[1;33m,\u001b[0m \u001b[0mself\u001b[0m\u001b[1;33m.\u001b[0m\u001b[0mtransData\u001b[0m\u001b[1;33m)\u001b[0m\u001b[1;33m,\u001b[0m\u001b[1;33m\u001b[0m\u001b[1;33m\u001b[0m\u001b[0m\n\u001b[1;32m-> 4498\u001b[1;33m                 \u001b[0malpha\u001b[0m\u001b[1;33m=\u001b[0m\u001b[0malpha\u001b[0m\u001b[1;33m\u001b[0m\u001b[1;33m\u001b[0m\u001b[0m\n\u001b[0m\u001b[0;32m   4499\u001b[0m                 )\n\u001b[0;32m   4500\u001b[0m         \u001b[0mcollection\u001b[0m\u001b[1;33m.\u001b[0m\u001b[0mset_transform\u001b[0m\u001b[1;33m(\u001b[0m\u001b[0mmtransforms\u001b[0m\u001b[1;33m.\u001b[0m\u001b[0mIdentityTransform\u001b[0m\u001b[1;33m(\u001b[0m\u001b[1;33m)\u001b[0m\u001b[1;33m)\u001b[0m\u001b[1;33m\u001b[0m\u001b[1;33m\u001b[0m\u001b[0m\n",
      "\u001b[1;32m~\\Anaconda3\\lib\\site-packages\\matplotlib\\collections.py\u001b[0m in \u001b[0;36m__init__\u001b[1;34m(self, paths, sizes, **kwargs)\u001b[0m\n\u001b[0;32m    883\u001b[0m         \u001b[0mCollection\u001b[0m\u001b[1;33m.\u001b[0m\u001b[0m__init__\u001b[0m\u001b[1;33m(\u001b[0m\u001b[0mself\u001b[0m\u001b[1;33m,\u001b[0m \u001b[1;33m**\u001b[0m\u001b[0mkwargs\u001b[0m\u001b[1;33m)\u001b[0m\u001b[1;33m\u001b[0m\u001b[1;33m\u001b[0m\u001b[0m\n\u001b[0;32m    884\u001b[0m         \u001b[0mself\u001b[0m\u001b[1;33m.\u001b[0m\u001b[0mset_paths\u001b[0m\u001b[1;33m(\u001b[0m\u001b[0mpaths\u001b[0m\u001b[1;33m)\u001b[0m\u001b[1;33m\u001b[0m\u001b[1;33m\u001b[0m\u001b[0m\n\u001b[1;32m--> 885\u001b[1;33m         \u001b[0mself\u001b[0m\u001b[1;33m.\u001b[0m\u001b[0mset_sizes\u001b[0m\u001b[1;33m(\u001b[0m\u001b[0msizes\u001b[0m\u001b[1;33m)\u001b[0m\u001b[1;33m\u001b[0m\u001b[1;33m\u001b[0m\u001b[0m\n\u001b[0m\u001b[0;32m    886\u001b[0m         \u001b[0mself\u001b[0m\u001b[1;33m.\u001b[0m\u001b[0mstale\u001b[0m \u001b[1;33m=\u001b[0m \u001b[1;32mTrue\u001b[0m\u001b[1;33m\u001b[0m\u001b[1;33m\u001b[0m\u001b[0m\n\u001b[0;32m    887\u001b[0m \u001b[1;33m\u001b[0m\u001b[0m\n",
      "\u001b[1;32m~\\Anaconda3\\lib\\site-packages\\matplotlib\\collections.py\u001b[0m in \u001b[0;36mset_sizes\u001b[1;34m(self, sizes, dpi)\u001b[0m\n\u001b[0;32m    855\u001b[0m             \u001b[0mself\u001b[0m\u001b[1;33m.\u001b[0m\u001b[0m_sizes\u001b[0m \u001b[1;33m=\u001b[0m \u001b[0mnp\u001b[0m\u001b[1;33m.\u001b[0m\u001b[0masarray\u001b[0m\u001b[1;33m(\u001b[0m\u001b[0msizes\u001b[0m\u001b[1;33m)\u001b[0m\u001b[1;33m\u001b[0m\u001b[1;33m\u001b[0m\u001b[0m\n\u001b[0;32m    856\u001b[0m             \u001b[0mself\u001b[0m\u001b[1;33m.\u001b[0m\u001b[0m_transforms\u001b[0m \u001b[1;33m=\u001b[0m \u001b[0mnp\u001b[0m\u001b[1;33m.\u001b[0m\u001b[0mzeros\u001b[0m\u001b[1;33m(\u001b[0m\u001b[1;33m(\u001b[0m\u001b[0mlen\u001b[0m\u001b[1;33m(\u001b[0m\u001b[0mself\u001b[0m\u001b[1;33m.\u001b[0m\u001b[0m_sizes\u001b[0m\u001b[1;33m)\u001b[0m\u001b[1;33m,\u001b[0m \u001b[1;36m3\u001b[0m\u001b[1;33m,\u001b[0m \u001b[1;36m3\u001b[0m\u001b[1;33m)\u001b[0m\u001b[1;33m)\u001b[0m\u001b[1;33m\u001b[0m\u001b[1;33m\u001b[0m\u001b[0m\n\u001b[1;32m--> 857\u001b[1;33m             \u001b[0mscale\u001b[0m \u001b[1;33m=\u001b[0m \u001b[0mnp\u001b[0m\u001b[1;33m.\u001b[0m\u001b[0msqrt\u001b[0m\u001b[1;33m(\u001b[0m\u001b[0mself\u001b[0m\u001b[1;33m.\u001b[0m\u001b[0m_sizes\u001b[0m\u001b[1;33m)\u001b[0m \u001b[1;33m*\u001b[0m \u001b[0mdpi\u001b[0m \u001b[1;33m/\u001b[0m \u001b[1;36m72.0\u001b[0m \u001b[1;33m*\u001b[0m \u001b[0mself\u001b[0m\u001b[1;33m.\u001b[0m\u001b[0m_factor\u001b[0m\u001b[1;33m\u001b[0m\u001b[1;33m\u001b[0m\u001b[0m\n\u001b[0m\u001b[0;32m    858\u001b[0m             \u001b[0mself\u001b[0m\u001b[1;33m.\u001b[0m\u001b[0m_transforms\u001b[0m\u001b[1;33m[\u001b[0m\u001b[1;33m:\u001b[0m\u001b[1;33m,\u001b[0m \u001b[1;36m0\u001b[0m\u001b[1;33m,\u001b[0m \u001b[1;36m0\u001b[0m\u001b[1;33m]\u001b[0m \u001b[1;33m=\u001b[0m \u001b[0mscale\u001b[0m\u001b[1;33m\u001b[0m\u001b[1;33m\u001b[0m\u001b[0m\n\u001b[0;32m    859\u001b[0m             \u001b[0mself\u001b[0m\u001b[1;33m.\u001b[0m\u001b[0m_transforms\u001b[0m\u001b[1;33m[\u001b[0m\u001b[1;33m:\u001b[0m\u001b[1;33m,\u001b[0m \u001b[1;36m1\u001b[0m\u001b[1;33m,\u001b[0m \u001b[1;36m1\u001b[0m\u001b[1;33m]\u001b[0m \u001b[1;33m=\u001b[0m \u001b[0mscale\u001b[0m\u001b[1;33m\u001b[0m\u001b[1;33m\u001b[0m\u001b[0m\n",
      "\u001b[1;31mTypeError\u001b[0m: ufunc 'sqrt' not supported for the input types, and the inputs could not be safely coerced to any supported types according to the casting rule ''safe''"
     ]
    },
    {
     "data": {
      "image/png": "[encoded data removed]",
      "text/plain": [
       "<Figure size 432x288 with 1 Axes>"
      ]
     },
     "metadata": {
      "needs_background": "light"
     },
     "output_type": "display_data"
    }
   ],
   "source": [
    "if (case == 1):\n",
    "\n",
    "    plt.title(' Analysis')\n",
    "    plt.xlabel(' theta 2, theta 2 dot and  theta 2 double dot ')\n",
    "    plt.ylabel(' position, velocity and acceleration ')\n",
    "    \n",
    "    p = plt.plot([t2],[pos],'r')  \n",
    "    v = plt.plot([dt2],[vel],'g')  \n",
    "    ac = plt.plot([ddt2],[acc],'b')  \n",
    "    \n",
    "    plt.show()\n",
    "    \n",
    "elif (case == 2):\n",
    "    \n",
    "    plt.title(' Analysis')\n",
    "    plt.xlabel(' theta 3, theta 3 dot and  theta 3 double dot ')\n",
    "    plt.ylabel(' position, velocity and acceleration ')    \n",
    "    \n",
    "    p = plt.scatter(t3,pos,'r')  \n",
    "    v = plt.scatter(dt3,vel,'g')  \n",
    "    ac = plt.scatter(ddt3,acc,'b')  \n",
    "    \n",
    "    plt.show()\n",
    "elif (case == 3):\n",
    "    \n",
    "    plt.title(' Analysis')\n",
    "    plt.xlabel(' r 1, r 1 dot and  r 1 double dot ')\n",
    "    plt.ylabel(' position, velocity and acceleration ')       \n",
    "    \n",
    "    p = plt.plot([r1],[pos],'r')  \n",
    "    v = plt.plot([dr1],[vel],'g')  \n",
    "    ac = plt.plot([ddr1],[acc],'b')  \n",
    "        \n",
    "    plt.show()"
   ]
  },
  {
   "cell_type": "code",
   "execution_count": null,
   "metadata": {},
   "outputs": [],
   "source": []
  }
 ],
 "metadata": {
  "kernelspec": {
   "display_name": "Python 3",
   "language": "python",
   "name": "python3"
  },
  "language_info": {
   "codemirror_mode": {
    "name": "ipython",
    "version": 3
   },
   "file_extension": ".py",
   "mimetype": "text/x-python",
   "name": "python",
   "nbconvert_exporter": "python",
   "pygments_lexer": "ipython3",
   "version": "3.7.4"
  }
 },
 "nbformat": 4,
 "nbformat_minor": 2
}
